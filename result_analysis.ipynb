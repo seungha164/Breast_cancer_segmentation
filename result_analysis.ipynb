{
 "cells": [
  {
   "cell_type": "code",
   "execution_count": 1,
   "metadata": {},
   "outputs": [],
   "source": [
    "import pandas as pd\n",
    "import os\n",
    "import matplotlib.pyplot as plt\n",
    "import cv2\n",
    "from PIL import Image\n",
    "import numpy as np"
   ]
  },
  {
   "cell_type": "code",
   "execution_count": 2,
   "metadata": {},
   "outputs": [],
   "source": [
    "pDir = './result/BU_ST_UD_QA/BU_ST_UD_QA/'"
   ]
  },
  {
   "cell_type": "markdown",
   "metadata": {},
   "source": [
    "##### (1) 구성 dataset별 iou. dice score 비교"
   ]
  },
  {
   "cell_type": "code",
   "execution_count": 24,
   "metadata": {},
   "outputs": [
    {
     "data": {
      "text/html": [
       "<div>\n",
       "<style scoped>\n",
       "    .dataframe tbody tr th:only-of-type {\n",
       "        vertical-align: middle;\n",
       "    }\n",
       "\n",
       "    .dataframe tbody tr th {\n",
       "        vertical-align: top;\n",
       "    }\n",
       "\n",
       "    .dataframe thead th {\n",
       "        text-align: right;\n",
       "    }\n",
       "</style>\n",
       "<table border=\"1\" class=\"dataframe\">\n",
       "  <thead>\n",
       "    <tr style=\"text-align: right;\">\n",
       "      <th></th>\n",
       "      <th>ID</th>\n",
       "      <th>task</th>\n",
       "      <th>iou</th>\n",
       "      <th>dice</th>\n",
       "      <th>SE</th>\n",
       "      <th>PE</th>\n",
       "      <th>F1</th>\n",
       "      <th>SP</th>\n",
       "      <th>ACC</th>\n",
       "    </tr>\n",
       "  </thead>\n",
       "  <tbody>\n",
       "    <tr>\n",
       "      <th>0</th>\n",
       "      <td>BUSI_benign_147</td>\n",
       "      <td>BUSI</td>\n",
       "      <td>0.423321</td>\n",
       "      <td>0.594835</td>\n",
       "      <td>0.441215</td>\n",
       "      <td>0.912568</td>\n",
       "      <td>0.594835</td>\n",
       "      <td>0.999506</td>\n",
       "      <td>0.993057</td>\n",
       "    </tr>\n",
       "    <tr>\n",
       "      <th>1</th>\n",
       "      <td>BUSI_malignant_57</td>\n",
       "      <td>BUSI</td>\n",
       "      <td>0.737064</td>\n",
       "      <td>0.848632</td>\n",
       "      <td>0.752069</td>\n",
       "      <td>0.973645</td>\n",
       "      <td>0.848631</td>\n",
       "      <td>0.997933</td>\n",
       "      <td>0.975266</td>\n",
       "    </tr>\n",
       "    <tr>\n",
       "      <th>2</th>\n",
       "      <td>BUSI_benign_374</td>\n",
       "      <td>BUSI</td>\n",
       "      <td>0.750588</td>\n",
       "      <td>0.857527</td>\n",
       "      <td>0.996875</td>\n",
       "      <td>0.752358</td>\n",
       "      <td>0.857526</td>\n",
       "      <td>0.998390</td>\n",
       "      <td>0.998383</td>\n",
       "    </tr>\n",
       "    <tr>\n",
       "      <th>3</th>\n",
       "      <td>BUSI_malignant_196</td>\n",
       "      <td>BUSI</td>\n",
       "      <td>0.842667</td>\n",
       "      <td>0.914616</td>\n",
       "      <td>0.844318</td>\n",
       "      <td>0.997685</td>\n",
       "      <td>0.914616</td>\n",
       "      <td>0.999816</td>\n",
       "      <td>0.986496</td>\n",
       "    </tr>\n",
       "    <tr>\n",
       "      <th>4</th>\n",
       "      <td>BUSI_benign_241</td>\n",
       "      <td>BUSI</td>\n",
       "      <td>0.864250</td>\n",
       "      <td>0.927182</td>\n",
       "      <td>0.896400</td>\n",
       "      <td>0.960154</td>\n",
       "      <td>0.927182</td>\n",
       "      <td>0.998525</td>\n",
       "      <td>0.994629</td>\n",
       "    </tr>\n",
       "  </tbody>\n",
       "</table>\n",
       "</div>"
      ],
      "text/plain": [
       "                   ID  task       iou      dice        SE        PE        F1  \\\n",
       "0     BUSI_benign_147  BUSI  0.423321  0.594835  0.441215  0.912568  0.594835   \n",
       "1   BUSI_malignant_57  BUSI  0.737064  0.848632  0.752069  0.973645  0.848631   \n",
       "2     BUSI_benign_374  BUSI  0.750588  0.857527  0.996875  0.752358  0.857526   \n",
       "3  BUSI_malignant_196  BUSI  0.842667  0.914616  0.844318  0.997685  0.914616   \n",
       "4     BUSI_benign_241  BUSI  0.864250  0.927182  0.896400  0.960154  0.927182   \n",
       "\n",
       "         SP       ACC  \n",
       "0  0.999506  0.993057  \n",
       "1  0.997933  0.975266  \n",
       "2  0.998390  0.998383  \n",
       "3  0.999816  0.986496  \n",
       "4  0.998525  0.994629  "
      ]
     },
     "execution_count": 24,
     "metadata": {},
     "output_type": "execute_result"
    }
   ],
   "source": [
    "df = pd.read_csv(f'{pDir}/result.csv', index_col=0)\n",
    "df.head()"
   ]
  },
  {
   "cell_type": "code",
   "execution_count": 29,
   "metadata": {},
   "outputs": [
    {
     "name": "stderr",
     "output_type": "stream",
     "text": [
      "/tmp/ipykernel_340933/1947295277.py:1: FutureWarning: Indexing with multiple keys (implicitly converted to a tuple of keys) will be deprecated, use a list instead.\n",
      "  df.groupby(by='task')['iou', 'dice'].agg(['mean', 'count'])\n"
     ]
    },
    {
     "data": {
      "text/html": [
       "<div>\n",
       "<style scoped>\n",
       "    .dataframe tbody tr th:only-of-type {\n",
       "        vertical-align: middle;\n",
       "    }\n",
       "\n",
       "    .dataframe tbody tr th {\n",
       "        vertical-align: top;\n",
       "    }\n",
       "\n",
       "    .dataframe thead tr th {\n",
       "        text-align: left;\n",
       "    }\n",
       "\n",
       "    .dataframe thead tr:last-of-type th {\n",
       "        text-align: right;\n",
       "    }\n",
       "</style>\n",
       "<table border=\"1\" class=\"dataframe\">\n",
       "  <thead>\n",
       "    <tr>\n",
       "      <th></th>\n",
       "      <th colspan=\"2\" halign=\"left\">iou</th>\n",
       "      <th colspan=\"2\" halign=\"left\">dice</th>\n",
       "    </tr>\n",
       "    <tr>\n",
       "      <th></th>\n",
       "      <th>mean</th>\n",
       "      <th>count</th>\n",
       "      <th>mean</th>\n",
       "      <th>count</th>\n",
       "    </tr>\n",
       "    <tr>\n",
       "      <th>task</th>\n",
       "      <th></th>\n",
       "      <th></th>\n",
       "      <th></th>\n",
       "      <th></th>\n",
       "    </tr>\n",
       "  </thead>\n",
       "  <tbody>\n",
       "    <tr>\n",
       "      <th>BUSI</th>\n",
       "      <td>0.728221</td>\n",
       "      <td>263</td>\n",
       "      <td>0.807609</td>\n",
       "      <td>263</td>\n",
       "    </tr>\n",
       "    <tr>\n",
       "      <th>QAMEBI</th>\n",
       "      <td>0.781357</td>\n",
       "      <td>94</td>\n",
       "      <td>0.864346</td>\n",
       "      <td>94</td>\n",
       "    </tr>\n",
       "    <tr>\n",
       "      <th>STU</th>\n",
       "      <td>0.785322</td>\n",
       "      <td>18</td>\n",
       "      <td>0.868262</td>\n",
       "      <td>18</td>\n",
       "    </tr>\n",
       "    <tr>\n",
       "      <th>UDIAT</th>\n",
       "      <td>0.784374</td>\n",
       "      <td>67</td>\n",
       "      <td>0.859961</td>\n",
       "      <td>67</td>\n",
       "    </tr>\n",
       "  </tbody>\n",
       "</table>\n",
       "</div>"
      ],
      "text/plain": [
       "             iou            dice      \n",
       "            mean count      mean count\n",
       "task                                  \n",
       "BUSI    0.728221   263  0.807609   263\n",
       "QAMEBI  0.781357    94  0.864346    94\n",
       "STU     0.785322    18  0.868262    18\n",
       "UDIAT   0.784374    67  0.859961    67"
      ]
     },
     "execution_count": 29,
     "metadata": {},
     "output_type": "execute_result"
    }
   ],
   "source": [
    "df.groupby(by='task')['iou', 'dice'].agg(['mean', 'count'])"
   ]
  },
  {
   "cell_type": "code",
   "execution_count": null,
   "metadata": {},
   "outputs": [],
   "source": [
    "iDir = './inputs/TestSet/refine2/imagesTr'\n",
    "lDir = './inputs/TestSet/refine2/labelsTr'\n",
    "pDir = './predictions_T2_fold2'\n",
    "os.makedirs('visualization',exist_ok=True)"
   ]
  }
 ],
 "metadata": {
  "kernelspec": {
   "display_name": "senv",
   "language": "python",
   "name": "python3"
  },
  "language_info": {
   "codemirror_mode": {
    "name": "ipython",
    "version": 3
   },
   "file_extension": ".py",
   "mimetype": "text/x-python",
   "name": "python",
   "nbconvert_exporter": "python",
   "pygments_lexer": "ipython3",
   "version": "3.10.12"
  }
 },
 "nbformat": 4,
 "nbformat_minor": 2
}
